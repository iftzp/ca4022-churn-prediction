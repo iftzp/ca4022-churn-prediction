{
  "nbformat": 4,
  "nbformat_minor": 0,
  "metadata": {
    "kernelspec": {
      "display_name": "Python 3",
      "language": "python",
      "name": "python3"
    },
    "language_info": {
      "codemirror_mode": {
        "name": "ipython",
        "version": 3
      },
      "file_extension": ".py",
      "mimetype": "text/x-python",
      "name": "python",
      "nbconvert_exporter": "python",
      "pygments_lexer": "ipython3",
      "version": "3.7.1"
    },
    "pycharm": {
      "stem_cell": {
        "cell_type": "raw",
        "metadata": {
          "collapsed": false
        },
        "source": []
      }
    },
    "colab": {
      "provenance": [],
      "collapsed_sections": [],
      "toc_visible": true
    }
  },
  "cells": [
    {
      "cell_type": "markdown",
      "metadata": {
        "id": "iAwUl9OUXTt0"
      },
      "source": [
        "# **Churn Data Exploration and Analysis**"
      ]
    },
    {
      "cell_type": "markdown",
      "metadata": {
        "id": "WNWpJjrabZhJ"
      },
      "source": [
        "# 0. Load data, mount drive and import libraries"
      ]
    },
    {
      "cell_type": "code",
      "metadata": {
        "colab": {
          "base_uri": "https://localhost:8080/"
        },
        "id": "VtO2HeNLaKfj",
        "outputId": "ca9175c2-094b-48ee-e88d-ae2920173137"
      },
      "source": [
        "from google.colab import drive\n",
        "import os\n",
        "drive.mount('/content/drive')\n",
        "path = \"/content/drive/My Drive/CA4022/\" # Jack\n",
        "#path = \"/content/drive/My Drive/4th Year/CA4022/assignment4/CA4022/\" # Ivan\n",
        "os.chdir(path)"
      ],
      "execution_count": null,
      "outputs": [
        {
          "output_type": "stream",
          "text": [
            "Mounted at /content/drive\n"
          ],
          "name": "stdout"
        }
      ]
    },
    {
      "cell_type": "code",
      "metadata": {
        "colab": {
          "base_uri": "https://localhost:8080/"
        },
        "id": "07Jqd-DlbgWf",
        "outputId": "c2760e69-15ab-4e52-e5ab-59b8c88978d8"
      },
      "source": [
        "!pip install pyspark\n",
        "!apt-get install openjdk-8-jdk-headless -qq > /dev/null\n",
        "!pip install -q findspark"
      ],
      "execution_count": null,
      "outputs": [
        {
          "output_type": "stream",
          "text": [
            "Collecting pyspark\n",
            "\u001b[?25l  Downloading https://files.pythonhosted.org/packages/f0/26/198fc8c0b98580f617cb03cb298c6056587b8f0447e20fa40c5b634ced77/pyspark-3.0.1.tar.gz (204.2MB)\n",
            "\u001b[K     |████████████████████████████████| 204.2MB 68kB/s \n",
            "\u001b[?25hCollecting py4j==0.10.9\n",
            "\u001b[?25l  Downloading https://files.pythonhosted.org/packages/9e/b6/6a4fb90cd235dc8e265a6a2067f2a2c99f0d91787f06aca4bcf7c23f3f80/py4j-0.10.9-py2.py3-none-any.whl (198kB)\n",
            "\u001b[K     |████████████████████████████████| 204kB 44.2MB/s \n",
            "\u001b[?25hBuilding wheels for collected packages: pyspark\n",
            "  Building wheel for pyspark (setup.py) ... \u001b[?25l\u001b[?25hdone\n",
            "  Created wheel for pyspark: filename=pyspark-3.0.1-py2.py3-none-any.whl size=204612243 sha256=aa2d2ee2108f4c8f44b6b6d8de36bf96c3273d7e4cce5fceab7edd86c1d9af5b\n",
            "  Stored in directory: /root/.cache/pip/wheels/5e/bd/07/031766ca628adec8435bb40f0bd83bb676ce65ff4007f8e73f\n",
            "Successfully built pyspark\n",
            "Installing collected packages: py4j, pyspark\n",
            "Successfully installed py4j-0.10.9 pyspark-3.0.1\n"
          ],
          "name": "stdout"
        }
      ]
    },
    {
      "cell_type": "markdown",
      "metadata": {
        "id": "KgPiFtw8XBY3"
      },
      "source": [
        "## Import Necessary Libraries"
      ]
    },
    {
      "cell_type": "code",
      "metadata": {
        "id": "YERhVHdWoZde"
      },
      "source": [
        "# Disable warnings, set Matplotlib inline plotting and load Pandas package\n",
        "import warnings\n",
        "warnings.filterwarnings('ignore')\n",
        "\n",
        "# import libraries\n",
        "import re\n",
        "import sys\n",
        "import copy\n",
        "import time\n",
        "import datetime\n",
        "import seaborn as sns\n",
        "import pandas as pd\n",
        "from matplotlib import pyplot as plt\n",
        "\n",
        "from pyspark.sql import SparkSession\n",
        "from pyspark.sql.functions import *\n",
        "from pyspark.sql.types import *\n",
        "\n",
        "%matplotlib inline"
      ],
      "execution_count": null,
      "outputs": []
    },
    {
      "cell_type": "markdown",
      "metadata": {
        "id": "1ZSMZDDqXEiK"
      },
      "source": [
        "Setting environment variables to use PySpark on Colab"
      ]
    },
    {
      "cell_type": "code",
      "metadata": {
        "id": "pqYAkJngV1eF"
      },
      "source": [
        "# set the environment path that enables us to run PySpark in our Colab environment\n",
        "os.environ[\"JAVA_HOME\"] = \"/usr/lib/jvm/java-8-openjdk-amd64\"\n",
        "os.environ[\"SPARK_HOME\"] = path + \"spark-3.0.1-bin-hadoop2.7\""
      ],
      "execution_count": null,
      "outputs": []
    },
    {
      "cell_type": "code",
      "metadata": {
        "id": "YrHLTn-MtmeX"
      },
      "source": [
        "!export PYSPARK_PYTHON=python3\n",
        "# give permissions to pwd\n",
        "!chmod -R 777 \"/content/drive/My Drive/CA4022/\" # Jack\n",
        "#!chmod -R 777 \"/content/drive/My Drive/4th Year/CA4022/assignment4/CA4022/\" # Ivan"
      ],
      "execution_count": null,
      "outputs": []
    },
    {
      "cell_type": "markdown",
      "metadata": {
        "id": "WzYMZz6QXKFT"
      },
      "source": [
        "Start our PySpark Session"
      ]
    },
    {
      "cell_type": "code",
      "metadata": {
        "id": "sEZulVG3svFp"
      },
      "source": [
        "spark = SparkSession.builder.appName('sparkify').getOrCreate()"
      ],
      "execution_count": null,
      "outputs": []
    },
    {
      "cell_type": "code",
      "metadata": {
        "id": "hGmg78vybZhN"
      },
      "source": [
        "pd.set_option('display.max_columns', None)  \n",
        "pd.set_option('display.expand_frame_repr', False)\n",
        "pd.set_option('max_colwidth', None)"
      ],
      "execution_count": null,
      "outputs": []
    },
    {
      "cell_type": "markdown",
      "metadata": {
        "id": "B0_kgJaTXO9S"
      },
      "source": [
        "This function was also used in our exploration notebook to remove non-alphanumeric characters -- aside from ',' and '-' -- from string type columns."
      ]
    },
    {
      "cell_type": "markdown",
      "metadata": {
        "id": "7sdkuW_VXkCi"
      },
      "source": [
        "Reading in our dataset. This is a subset of the large 12GB Sparkify dataset."
      ]
    },
    {
      "cell_type": "code",
      "metadata": {
        "id": "PCg04SEcbZhO"
      },
      "source": [
        "# file = \"other_data/medium-sparkify-event-data.json\" # Jack\n",
        "file_path = \"mini_sparkify_event_data.json\" # Ivan\n",
        "\n",
        "df = spark.read.json(file_path)"
      ],
      "execution_count": null,
      "outputs": []
    },
    {
      "cell_type": "markdown",
      "metadata": {
        "id": "-sgA-R9VXpVj"
      },
      "source": [
        "We will first look at our data to identify any obvious errors when reading in the data."
      ]
    },
    {
      "cell_type": "code",
      "metadata": {
        "id": "MaI8YhZGbZhO",
        "colab": {
          "base_uri": "https://localhost:8080/"
        },
        "outputId": "c2094b3c-23fc-4360-f8ee-e64d55ead5aa"
      },
      "source": [
        "print(\"Number of entries/rows in dataframe:\\n\")\n",
        "print(df.count())\n",
        "print(\"\\n\\n\")\n",
        "print(\"First 5 rows of dataframe:\\n\")\n",
        "print(pd.DataFrame(df.take(5), columns=df.columns).head())\n",
        "print(\"\\n\\n\")\n",
        "print(\"Dataframe schema: columns and their types\\n\")\n",
        "print(df.printSchema())"
      ],
      "execution_count": null,
      "outputs": [
        {
          "output_type": "stream",
          "text": [
            "Number of entries/rows in dataframe:\n",
            "\n",
            "286500\n",
            "\n",
            "\n",
            "\n",
            "First 5 rows of dataframe:\n",
            "\n",
            "             artist       auth firstName gender  itemInSession lastName     length level                        location method      page   registration  sessionId                           song  status             ts                                                                                                        userAgent userId\n",
            "0    Martha Tilston  Logged In     Colin      M             50  Freeman  277.89016  paid                 Bakersfield, CA    PUT  NextSong  1538173362000         29                      Rockpools     200  1538352117000                                         Mozilla/5.0 (Windows NT 6.1; WOW64; rv:31.0) Gecko/20100101 Firefox/31.0     30\n",
            "1  Five Iron Frenzy  Logged In     Micah      M             79     Long  236.09424  free  Boston-Cambridge-Newton, MA-NH    PUT  NextSong  1538331630000          8                         Canada     200  1538352180000  \"Mozilla/5.0 (Windows NT 6.1; WOW64) AppleWebKit/537.36 (KHTML, like Gecko) Chrome/37.0.2062.103 Safari/537.36\"      9\n",
            "2      Adam Lambert  Logged In     Colin      M             51  Freeman  282.82730  paid                 Bakersfield, CA    PUT  NextSong  1538173362000         29              Time For Miracles     200  1538352394000                                         Mozilla/5.0 (Windows NT 6.1; WOW64; rv:31.0) Gecko/20100101 Firefox/31.0     30\n",
            "3            Enigma  Logged In     Micah      M             80     Long  262.71302  free  Boston-Cambridge-Newton, MA-NH    PUT  NextSong  1538331630000          8    Knocking On Forbidden Doors     200  1538352416000  \"Mozilla/5.0 (Windows NT 6.1; WOW64) AppleWebKit/537.36 (KHTML, like Gecko) Chrome/37.0.2062.103 Safari/537.36\"      9\n",
            "4         Daft Punk  Logged In     Colin      M             52  Freeman  223.60771  paid                 Bakersfield, CA    PUT  NextSong  1538173362000         29  Harder Better Faster Stronger     200  1538352676000                                         Mozilla/5.0 (Windows NT 6.1; WOW64; rv:31.0) Gecko/20100101 Firefox/31.0     30\n",
            "\n",
            "\n",
            "\n",
            "Dataframe schema: columns and their types\n",
            "\n",
            "root\n",
            " |-- artist: string (nullable = true)\n",
            " |-- auth: string (nullable = true)\n",
            " |-- firstName: string (nullable = true)\n",
            " |-- gender: string (nullable = true)\n",
            " |-- itemInSession: long (nullable = true)\n",
            " |-- lastName: string (nullable = true)\n",
            " |-- length: double (nullable = true)\n",
            " |-- level: string (nullable = true)\n",
            " |-- location: string (nullable = true)\n",
            " |-- method: string (nullable = true)\n",
            " |-- page: string (nullable = true)\n",
            " |-- registration: long (nullable = true)\n",
            " |-- sessionId: long (nullable = true)\n",
            " |-- song: string (nullable = true)\n",
            " |-- status: long (nullable = true)\n",
            " |-- ts: long (nullable = true)\n",
            " |-- userAgent: string (nullable = true)\n",
            " |-- userId: string (nullable = true)\n",
            "\n",
            "None\n"
          ],
          "name": "stdout"
        }
      ]
    },
    {
      "cell_type": "markdown",
      "metadata": {
        "id": "MSvavhQTT-FA"
      },
      "source": [
        "# 2. Summary Statistics\n",
        "\n",
        "Spark DataFrames include some [built-in functions](https://spark.apache.org/docs/latest/api/python/pyspark.sql.html#pyspark.sql.DataFrame) for statistical processing. The _describe()_ function performs summary statistics calculations on all numeric columns, and returns them as a DataFrame. "
      ]
    },
    {
      "cell_type": "code",
      "metadata": {
        "colab": {
          "base_uri": "https://localhost:8080/",
          "height": 680
        },
        "id": "_mhOLIxfKlZR",
        "outputId": "7694e697-2e96-4d3f-b2f8-6535c4e126e1"
      },
      "source": [
        "df.describe().toPandas().transpose()"
      ],
      "execution_count": null,
      "outputs": [
        {
          "output_type": "execute_result",
          "data": {
            "text/html": [
              "<div>\n",
              "<style scoped>\n",
              "    .dataframe tbody tr th:only-of-type {\n",
              "        vertical-align: middle;\n",
              "    }\n",
              "\n",
              "    .dataframe tbody tr th {\n",
              "        vertical-align: top;\n",
              "    }\n",
              "\n",
              "    .dataframe thead th {\n",
              "        text-align: right;\n",
              "    }\n",
              "</style>\n",
              "<table border=\"1\" class=\"dataframe\">\n",
              "  <thead>\n",
              "    <tr style=\"text-align: right;\">\n",
              "      <th></th>\n",
              "      <th>0</th>\n",
              "      <th>1</th>\n",
              "      <th>2</th>\n",
              "      <th>3</th>\n",
              "      <th>4</th>\n",
              "    </tr>\n",
              "  </thead>\n",
              "  <tbody>\n",
              "    <tr>\n",
              "      <th>summary</th>\n",
              "      <td>count</td>\n",
              "      <td>mean</td>\n",
              "      <td>stddev</td>\n",
              "      <td>min</td>\n",
              "      <td>max</td>\n",
              "    </tr>\n",
              "    <tr>\n",
              "      <th>artist</th>\n",
              "      <td>228108</td>\n",
              "      <td>551.0852017937219</td>\n",
              "      <td>1217.7693079161374</td>\n",
              "      <td>!!!</td>\n",
              "      <td>ÃÂlafur Arnalds</td>\n",
              "    </tr>\n",
              "    <tr>\n",
              "      <th>auth</th>\n",
              "      <td>286500</td>\n",
              "      <td>None</td>\n",
              "      <td>None</td>\n",
              "      <td>Cancelled</td>\n",
              "      <td>Logged Out</td>\n",
              "    </tr>\n",
              "    <tr>\n",
              "      <th>firstName</th>\n",
              "      <td>278154</td>\n",
              "      <td>None</td>\n",
              "      <td>None</td>\n",
              "      <td>Adelaida</td>\n",
              "      <td>Zyonna</td>\n",
              "    </tr>\n",
              "    <tr>\n",
              "      <th>gender</th>\n",
              "      <td>278154</td>\n",
              "      <td>None</td>\n",
              "      <td>None</td>\n",
              "      <td>F</td>\n",
              "      <td>M</td>\n",
              "    </tr>\n",
              "    <tr>\n",
              "      <th>itemInSession</th>\n",
              "      <td>286500</td>\n",
              "      <td>114.41421291448516</td>\n",
              "      <td>129.76726201141042</td>\n",
              "      <td>0</td>\n",
              "      <td>1321</td>\n",
              "    </tr>\n",
              "    <tr>\n",
              "      <th>lastName</th>\n",
              "      <td>278154</td>\n",
              "      <td>None</td>\n",
              "      <td>None</td>\n",
              "      <td>Adams</td>\n",
              "      <td>Wright</td>\n",
              "    </tr>\n",
              "    <tr>\n",
              "      <th>length</th>\n",
              "      <td>228108</td>\n",
              "      <td>249.11718197783662</td>\n",
              "      <td>99.23517921058307</td>\n",
              "      <td>0.78322</td>\n",
              "      <td>3024.66567</td>\n",
              "    </tr>\n",
              "    <tr>\n",
              "      <th>level</th>\n",
              "      <td>286500</td>\n",
              "      <td>None</td>\n",
              "      <td>None</td>\n",
              "      <td>free</td>\n",
              "      <td>paid</td>\n",
              "    </tr>\n",
              "    <tr>\n",
              "      <th>location</th>\n",
              "      <td>278154</td>\n",
              "      <td>None</td>\n",
              "      <td>None</td>\n",
              "      <td>Albany, OR</td>\n",
              "      <td>Winston-Salem, NC</td>\n",
              "    </tr>\n",
              "    <tr>\n",
              "      <th>method</th>\n",
              "      <td>286500</td>\n",
              "      <td>None</td>\n",
              "      <td>None</td>\n",
              "      <td>GET</td>\n",
              "      <td>PUT</td>\n",
              "    </tr>\n",
              "    <tr>\n",
              "      <th>page</th>\n",
              "      <td>286500</td>\n",
              "      <td>None</td>\n",
              "      <td>None</td>\n",
              "      <td>About</td>\n",
              "      <td>Upgrade</td>\n",
              "    </tr>\n",
              "    <tr>\n",
              "      <th>registration</th>\n",
              "      <td>278154</td>\n",
              "      <td>1.5353588340856504E12</td>\n",
              "      <td>3.29132161632862E9</td>\n",
              "      <td>1521380675000</td>\n",
              "      <td>1543247354000</td>\n",
              "    </tr>\n",
              "    <tr>\n",
              "      <th>sessionId</th>\n",
              "      <td>286500</td>\n",
              "      <td>1041.526554973822</td>\n",
              "      <td>726.7762634630783</td>\n",
              "      <td>1</td>\n",
              "      <td>2474</td>\n",
              "    </tr>\n",
              "    <tr>\n",
              "      <th>song</th>\n",
              "      <td>228108</td>\n",
              "      <td>Infinity</td>\n",
              "      <td>NaN</td>\n",
              "      <td>ÃÂg ÃÂtti GrÃÂ¡a ÃÂsku</td>\n",
              "      <td>ÃÂau hafa sloppiÃÂ° undan ÃÂ¾unga myrkursins</td>\n",
              "    </tr>\n",
              "    <tr>\n",
              "      <th>status</th>\n",
              "      <td>286500</td>\n",
              "      <td>210.05459685863875</td>\n",
              "      <td>31.505078488422217</td>\n",
              "      <td>200</td>\n",
              "      <td>404</td>\n",
              "    </tr>\n",
              "    <tr>\n",
              "      <th>ts</th>\n",
              "      <td>286500</td>\n",
              "      <td>1.540956889810432E12</td>\n",
              "      <td>1.507543960818767E9</td>\n",
              "      <td>1538352117000</td>\n",
              "      <td>1543799476000</td>\n",
              "    </tr>\n",
              "    <tr>\n",
              "      <th>userAgent</th>\n",
              "      <td>278154</td>\n",
              "      <td>None</td>\n",
              "      <td>None</td>\n",
              "      <td>\"Mozilla/5.0 (Macintosh; Intel Mac OS X 10_10) AppleWebKit/600.1.3 (KHTML, like Gecko) Version/8.0 Safari/600.1.3\"</td>\n",
              "      <td>Mozilla/5.0 (compatible; MSIE 9.0; Windows NT 6.1; WOW64; Trident/5.0)</td>\n",
              "    </tr>\n",
              "    <tr>\n",
              "      <th>userId</th>\n",
              "      <td>286500</td>\n",
              "      <td>59682.02278593872</td>\n",
              "      <td>109091.94999910527</td>\n",
              "      <td></td>\n",
              "      <td>99</td>\n",
              "    </tr>\n",
              "  </tbody>\n",
              "</table>\n",
              "</div>"
            ],
            "text/plain": [
              "                    0                      1                    2                                                                                                                   3                                                                       4\n",
              "summary         count                   mean               stddev                                                                                                                 min                                                                     max\n",
              "artist         228108      551.0852017937219   1217.7693079161374                                                                                                                 !!!                                                       ÃÂlafur Arnalds\n",
              "auth           286500                   None                 None                                                                                                           Cancelled                                                              Logged Out\n",
              "firstName      278154                   None                 None                                                                                                            Adelaida                                                                  Zyonna\n",
              "gender         278154                   None                 None                                                                                                                   F                                                                       M\n",
              "itemInSession  286500     114.41421291448516   129.76726201141042                                                                                                                   0                                                                    1321\n",
              "lastName       278154                   None                 None                                                                                                               Adams                                                                  Wright\n",
              "length         228108     249.11718197783662    99.23517921058307                                                                                                             0.78322                                                              3024.66567\n",
              "level          286500                   None                 None                                                                                                                free                                                                    paid\n",
              "location       278154                   None                 None                                                                                                          Albany, OR                                                       Winston-Salem, NC\n",
              "method         286500                   None                 None                                                                                                                 GET                                                                     PUT\n",
              "page           286500                   None                 None                                                                                                               About                                                                 Upgrade\n",
              "registration   278154  1.5353588340856504E12   3.29132161632862E9                                                                                                       1521380675000                                                           1543247354000\n",
              "sessionId      286500      1041.526554973822    726.7762634630783                                                                                                                   1                                                                    2474\n",
              "song           228108               Infinity                  NaN                                                                                      \n",
              "ÃÂg ÃÂtti GrÃÂ¡a ÃÂsku                        ÃÂau hafa sloppiÃÂ° undan ÃÂ¾unga myrkursins\n",
              "status         286500     210.05459685863875   31.505078488422217                                                                                                                 200                                                                     404\n",
              "ts             286500   1.540956889810432E12  1.507543960818767E9                                                                                                       1538352117000                                                           1543799476000\n",
              "userAgent      278154                   None                 None  \"Mozilla/5.0 (Macintosh; Intel Mac OS X 10_10) AppleWebKit/600.1.3 (KHTML, like Gecko) Version/8.0 Safari/600.1.3\"  Mozilla/5.0 (compatible; MSIE 9.0; Windows NT 6.1; WOW64; Trident/5.0)\n",
              "userId         286500      59682.02278593872   109091.94999910527                                                                                                                                                                                          99"
            ]
          },
          "metadata": {
            "tags": []
          },
          "execution_count": 11
        }
      ]
    },
    {
      "cell_type": "markdown",
      "metadata": {
        "id": "wveXzd4bT-FA"
      },
      "source": [
        "# 3. Correlations and Data Preparation\n",
        "\n",
        "We will perform our analysis, using the [ML statistics package](https://spark.apache.org/docs/latest/api/python/pyspark.ml.html) alongside other python packages. "
      ]
    },
    {
      "cell_type": "markdown",
      "metadata": {
        "id": "czKt_QhWbZhP"
      },
      "source": [
        "**How many users are in this dataset?**"
      ]
    },
    {
      "cell_type": "code",
      "metadata": {
        "colab": {
          "base_uri": "https://localhost:8080/"
        },
        "id": "60cjYz2XbZhP",
        "outputId": "d0971ab9-0e9c-48dd-e3f5-13765f1b0bc6"
      },
      "source": [
        "df.select('userId').distinct().count()"
      ],
      "execution_count": null,
      "outputs": [
        {
          "output_type": "execute_result",
          "data": {
            "text/plain": [
              "226"
            ]
          },
          "metadata": {
            "tags": []
          },
          "execution_count": 12
        }
      ]
    },
    {
      "cell_type": "markdown",
      "metadata": {
        "id": "9fe7zGvEbZhP"
      },
      "source": [
        "**Logs Time frame:**"
      ]
    },
    {
      "cell_type": "code",
      "metadata": {
        "colab": {
          "base_uri": "https://localhost:8080/"
        },
        "id": "3TD6-WwhbZhP",
        "outputId": "36ce7b5c-f06f-4388-88eb-4b9406859e20"
      },
      "source": [
        "df.agg(max(from_unixtime(col('ts')/1000).cast(DateType())),min(from_unixtime(col('ts')/1000).cast(DateType()))).collect()"
      ],
      "execution_count": null,
      "outputs": [
        {
          "output_type": "execute_result",
          "data": {
            "text/plain": [
              "[Row(max(CAST(from_unixtime((ts / 1000), yyyy-MM-dd HH:mm:ss) AS DATE))=datetime.date(2018, 12, 3), min(CAST(from_unixtime((ts / 1000), yyyy-MM-dd HH:mm:ss) AS DATE))=datetime.date(2018, 10, 1))]"
            ]
          },
          "metadata": {
            "tags": []
          },
          "execution_count": 13
        }
      ]
    },
    {
      "cell_type": "markdown",
      "metadata": {
        "id": "TVlqD7R4bZhQ"
      },
      "source": [
        "This shows that we have 2 months of data."
      ]
    },
    {
      "cell_type": "markdown",
      "metadata": {
        "id": "Mkogs2PWbZhQ"
      },
      "source": [
        "**Distinct Values for Columns of Interest**\n",
        "We have picked these from the schema above"
      ]
    },
    {
      "cell_type": "code",
      "metadata": {
        "colab": {
          "base_uri": "https://localhost:8080/"
        },
        "id": "ifJZFRV1bZhQ",
        "outputId": "f7d7a1da-4ce2-4eab-904f-208924be3de3"
      },
      "source": [
        "print(\"Unique pages:\")\n",
        "print(df.select('page').distinct().collect())\n",
        "print(\"\\n\\n\")\n",
        "print(\"Unique User Statuses:\")\n",
        "print(df.select('auth').distinct().collect())\n",
        "print(\"\\n\\n\")\n",
        "print(\"Unique Membership Levels:\")\n",
        "print(df.select('level').distinct().collect())\n",
        "print(\"\\n\\n\")\n",
        "print(\"Unique genders:\")\n",
        "print(df.select('gender').distinct().collect())\n",
        "print(\"Unique Statuses:\")\n",
        "print(df.select('status').distinct().collect())\n",
        "print(\"\\n\\n\")\n",
        "print(\"Unique Methods:\")\n",
        "print(df.select('method').distinct().collect())"
      ],
      "execution_count": null,
      "outputs": [
        {
          "output_type": "stream",
          "text": [
            "Unique pages:\n",
            "[Row(page='Cancel'), Row(page='Submit Downgrade'), Row(page='Thumbs Down'), Row(page='Home'), Row(page='Downgrade'), Row(page='Roll Advert'), Row(page='Logout'), Row(page='Save Settings'), Row(page='Cancellation Confirmation'), Row(page='About'), Row(page='Submit Registration'), Row(page='Settings'), Row(page='Login'), Row(page='Register'), Row(page='Add to Playlist'), Row(page='Add Friend'), Row(page='NextSong'), Row(page='Thumbs Up'), Row(page='Help'), Row(page='Upgrade'), Row(page='Error'), Row(page='Submit Upgrade')]\n",
            "\n",
            "\n",
            "\n",
            "Unique User Statuses:\n",
            "[Row(auth='Logged Out'), Row(auth='Cancelled'), Row(auth='Guest'), Row(auth='Logged In')]\n",
            "\n",
            "\n",
            "\n",
            "Unique Membership Levels:\n",
            "[Row(level='free'), Row(level='paid')]\n",
            "\n",
            "\n",
            "\n",
            "Unique genders:\n",
            "[Row(gender='F'), Row(gender=None), Row(gender='M')]\n",
            "Unique Statuses:\n",
            "[Row(status=307), Row(status=404), Row(status=200)]\n",
            "\n",
            "\n",
            "\n",
            "Unique Methods:\n",
            "[Row(method='PUT'), Row(method='GET')]\n"
          ],
          "name": "stdout"
        }
      ]
    },
    {
      "cell_type": "markdown",
      "metadata": {
        "id": "Kzvr5IzTrZ9Z"
      },
      "source": [
        "Check for nulls values"
      ]
    },
    {
      "cell_type": "code",
      "metadata": {
        "colab": {
          "base_uri": "https://localhost:8080/"
        },
        "id": "pBhAFG2XbZhS",
        "outputId": "f18a36c6-af68-4860-cf7c-764884dd9593"
      },
      "source": [
        "df.select([count(when(isnull(c), c)).alias(c) for c in df.columns]).show()"
      ],
      "execution_count": null,
      "outputs": [
        {
          "output_type": "stream",
          "text": [
            "+------+----+---------+------+-------------+--------+------+-----+--------+------+----+------------+---------+-----+------+---+---------+------+\n",
            "|artist|auth|firstName|gender|itemInSession|lastName|length|level|location|method|page|registration|sessionId| song|status| ts|userAgent|userId|\n",
            "+------+----+---------+------+-------------+--------+------+-----+--------+------+----+------------+---------+-----+------+---+---------+------+\n",
            "| 58392|   0|     8346|  8346|            0|    8346| 58392|    0|    8346|     0|   0|        8346|        0|58392|     0|  0|     8346|     0|\n",
            "+------+----+---------+------+-------------+--------+------+-----+--------+------+----+------------+---------+-----+------+---+---------+------+\n",
            "\n"
          ],
          "name": "stdout"
        }
      ]
    },
    {
      "cell_type": "markdown",
      "metadata": {
        "id": "WV3eXe7WNf9D"
      },
      "source": [
        "There appears to be a pattern with the null values between columns, as we have the same number of nulls for several."
      ]
    },
    {
      "cell_type": "code",
      "metadata": {
        "colab": {
          "base_uri": "https://localhost:8080/"
        },
        "id": "bH_k0GBpbZhS",
        "outputId": "cfe83639-addd-4be8-aa2b-808cdb13e57f"
      },
      "source": [
        "df.where(\"artist is null\").show(10)"
      ],
      "execution_count": null,
      "outputs": [
        {
          "output_type": "stream",
          "text": [
            "+------+----------+---------+------+-------------+--------+------+-----+--------------------+------+---------------+-------------+---------+----+------+-------------+--------------------+------+\n",
            "|artist|      auth|firstName|gender|itemInSession|lastName|length|level|            location|method|           page| registration|sessionId|song|status|           ts|           userAgent|userId|\n",
            "+------+----------+---------+------+-------------+--------+------+-----+--------------------+------+---------------+-------------+---------+----+------+-------------+--------------------+------+\n",
            "|  null| Logged In|    Colin|     M|           54| Freeman|  null| paid|     Bakersfield, CA|   PUT|Add to Playlist|1538173362000|       29|null|   200|1538352905000|Mozilla/5.0 (Wind...|    30|\n",
            "|  null| Logged In|    Micah|     M|           84|    Long|  null| free|Boston-Cambridge-...|   GET|    Roll Advert|1538331630000|        8|null|   200|1538353150000|\"Mozilla/5.0 (Win...|     9|\n",
            "|  null| Logged In|    Micah|     M|           86|    Long|  null| free|Boston-Cambridge-...|   PUT|      Thumbs Up|1538331630000|        8|null|   307|1538353376000|\"Mozilla/5.0 (Win...|     9|\n",
            "|  null| Logged In|    Alexi|     F|            4|  Warren|  null| paid|Spokane-Spokane V...|   GET|      Downgrade|1532482662000|       53|null|   200|1538354749000|Mozilla/5.0 (Wind...|    54|\n",
            "|  null| Logged In|    Alexi|     F|            7|  Warren|  null| paid|Spokane-Spokane V...|   PUT|      Thumbs Up|1532482662000|       53|null|   307|1538355255000|Mozilla/5.0 (Wind...|    54|\n",
            "|  null| Logged In|    Micah|     M|           95|    Long|  null| free|Boston-Cambridge-...|   PUT|    Thumbs Down|1538331630000|        8|null|   307|1538355306000|\"Mozilla/5.0 (Win...|     9|\n",
            "|  null| Logged In|    Micah|     M|           97|    Long|  null| free|Boston-Cambridge-...|   GET|           Home|1538331630000|        8|null|   200|1538355504000|\"Mozilla/5.0 (Win...|     9|\n",
            "|  null| Logged In|    Micah|     M|           99|    Long|  null| free|Boston-Cambridge-...|   PUT|         Logout|1538331630000|        8|null|   307|1538355687000|\"Mozilla/5.0 (Win...|     9|\n",
            "|  null| Logged In|  Ashlynn|     F|            9|Williams|  null| free|     Tallahassee, FL|   PUT|      Thumbs Up|1537365219000|      217|null|   307|1538355711000|\"Mozilla/5.0 (Mac...|    74|\n",
            "|  null|Logged Out|     null|  null|          100|    null|  null| free|                null|   GET|           Home|         null|        8|null|   200|1538355745000|                null|      |\n",
            "+------+----------+---------+------+-------------+--------+------+-----+--------------------+------+---------------+-------------+---------+----+------+-------------+--------------------+------+\n",
            "only showing top 10 rows\n",
            "\n"
          ],
          "name": "stdout"
        }
      ]
    },
    {
      "cell_type": "code",
      "metadata": {
        "colab": {
          "base_uri": "https://localhost:8080/"
        },
        "id": "Yu1_9cdxbZhS",
        "outputId": "63af0331-f951-4312-a1cd-cac2efbc9f11"
      },
      "source": [
        "set(df.select('page').distinct().collect())-set(df.where(\"artist is null\").select('page').distinct().collect())"
      ],
      "execution_count": null,
      "outputs": [
        {
          "output_type": "execute_result",
          "data": {
            "text/plain": [
              "{Row(page='NextSong')}"
            ]
          },
          "metadata": {
            "tags": []
          },
          "execution_count": 18
        }
      ]
    },
    {
      "cell_type": "markdown",
      "metadata": {
        "id": "LkVFCiYebZhS"
      },
      "source": [
        "**We can see that artist, length and song are null whenever the 'auth' column contains value 'LoggedOut'.**\n",
        "\n",
        "**We also note that there are no null artist values in rows where the 'page' value is 'NextSong'.**"
      ]
    },
    {
      "cell_type": "code",
      "metadata": {
        "colab": {
          "base_uri": "https://localhost:8080/"
        },
        "id": "5pgJY4e9bZhS",
        "outputId": "13d3e995-80d6-429d-ae13-afedb0f7041f"
      },
      "source": [
        "df.where(\"lastName is null\").show(10)"
      ],
      "execution_count": null,
      "outputs": [
        {
          "output_type": "stream",
          "text": [
            "+------+----------+---------+------+-------------+--------+------+-----+--------+------+-----+------------+---------+----+------+-------------+---------+------+\n",
            "|artist|      auth|firstName|gender|itemInSession|lastName|length|level|location|method| page|registration|sessionId|song|status|           ts|userAgent|userId|\n",
            "+------+----------+---------+------+-------------+--------+------+-----+--------+------+-----+------------+---------+----+------+-------------+---------+------+\n",
            "|  null|Logged Out|     null|  null|          100|    null|  null| free|    null|   GET| Home|        null|        8|null|   200|1538355745000|     null|      |\n",
            "|  null|Logged Out|     null|  null|          101|    null|  null| free|    null|   GET| Help|        null|        8|null|   200|1538355807000|     null|      |\n",
            "|  null|Logged Out|     null|  null|          102|    null|  null| free|    null|   GET| Home|        null|        8|null|   200|1538355841000|     null|      |\n",
            "|  null|Logged Out|     null|  null|          103|    null|  null| free|    null|   PUT|Login|        null|        8|null|   307|1538355842000|     null|      |\n",
            "|  null|Logged Out|     null|  null|            2|    null|  null| free|    null|   GET| Home|        null|      240|null|   200|1538356678000|     null|      |\n",
            "|  null|Logged Out|     null|  null|            3|    null|  null| free|    null|   PUT|Login|        null|      240|null|   307|1538356679000|     null|      |\n",
            "|  null|Logged Out|     null|  null|            0|    null|  null| free|    null|   PUT|Login|        null|      100|null|   307|1538358102000|     null|      |\n",
            "|  null|Logged Out|     null|  null|            0|    null|  null| free|    null|   PUT|Login|        null|      241|null|   307|1538360117000|     null|      |\n",
            "|  null|Logged Out|     null|  null|           14|    null|  null| free|    null|   GET| Home|        null|      187|null|   200|1538361527000|     null|      |\n",
            "|  null|Logged Out|     null|  null|           15|    null|  null| free|    null|   PUT|Login|        null|      187|null|   307|1538361528000|     null|      |\n",
            "+------+----------+---------+------+-------------+--------+------+-----+--------+------+-----+------------+---------+----+------+-------------+---------+------+\n",
            "only showing top 10 rows\n",
            "\n"
          ],
          "name": "stdout"
        }
      ]
    },
    {
      "cell_type": "markdown",
      "metadata": {
        "id": "11_0LUuNbZhS"
      },
      "source": [
        "**We can see that firstName and lastName are null while userid is an empty string when 'auth' is 'LoggedOut'.**\n",
        "We'll cast 'userId' as a long data type, so that it will be changed to null if it's found empty. We can then use this userId column to drop rows in our feature assembler pipeline in our second notebook."
      ]
    },
    {
      "cell_type": "code",
      "metadata": {
        "colab": {
          "base_uri": "https://localhost:8080/"
        },
        "id": "cIUwYUa8bZhS",
        "outputId": "654e9715-3712-4798-f88c-b2d365ecff70"
      },
      "source": [
        "df.select('userId','gender','level','auth').groupby(['gender','level','auth']).count().show()"
      ],
      "execution_count": null,
      "outputs": [
        {
          "output_type": "stream",
          "text": [
            "+------+-----+----------+------+\n",
            "|gender|level|      auth| count|\n",
            "+------+-----+----------+------+\n",
            "|     F| free| Cancelled|     7|\n",
            "|     F| paid| Logged In|124893|\n",
            "|     M| paid| Logged In| 97509|\n",
            "|  null| free|Logged Out|  2520|\n",
            "|     F| free| Logged In| 29665|\n",
            "|     F| paid| Cancelled|    13|\n",
            "|     M| free| Logged In| 26035|\n",
            "|  null| free|     Guest|    97|\n",
            "|     M| free| Cancelled|    14|\n",
            "|  null| paid|Logged Out|  5729|\n",
            "|     M| paid| Cancelled|    18|\n",
            "+------+-----+----------+------+\n",
            "\n"
          ],
          "name": "stdout"
        }
      ]
    },
    {
      "cell_type": "markdown",
      "metadata": {
        "id": "23mH6Z0jbZhS"
      },
      "source": [
        "**Selecting the user ID, account level and authorisation status presents insteresting results. We can see that null gender also correlates with 'auth' being 'Logged Out'.**"
      ]
    },
    {
      "cell_type": "markdown",
      "metadata": {
        "id": "yPbU1Zu8bZhT"
      },
      "source": [
        "### Data Cleaning\n",
        "\n",
        "In the following cell, we will parse columns containing strings and discard unwanted non-alphanumeric characters, except ',' and '-'. These two are left because we have noticed that colums such as the location field can be split using them, which can provide additional insight.\n",
        "\n",
        "We create a label for churn and non-churn users by looking at other columns, namely 'page' and 'auth'. If the user is on the Cancellation page, or their authorisation status is 'Cancelled', we assign them a value of 1 in the new 'label' column. Otherwise, it is 0.\n",
        "\n",
        "We extract two additional colums from the 'ts' feature; these are more interpretable than just a Unix timestamp and can act as standalone features for churn prediction.\n",
        "\n",
        "Finally location field is split with ',' and only state abbreviation is retained for further analysis, as it is easy to use and has less unique values considering it will be encoded for modelling.\n"
      ]
    },
    {
      "cell_type": "code",
      "metadata": {
        "id": "PnZwuoRybZhT"
      },
      "source": [
        "for field in df.schema.fields:\n",
        "    if field.dataType == StringType():\n",
        "        df = df.withColumn(field.name, regexp_replace(field.name, '[^a-zA-Z0-9\\,\\-]', ''))\n",
        "\n",
        "df = df.withColumn('interaction_time', from_unixtime(col('ts').cast(LongType())/1000).cast(TimestampType()))\n",
        "df = df.withColumn('month', month(col('interaction_time')))\n",
        "df = df.withColumn('date', from_unixtime(col('ts')/1000).cast(DateType()))\n",
        "df = df.withColumn('userId', col('userId').cast(LongType()))\n",
        "df = df.filter(col('userId').isNotNull())\n",
        "df = df.filter(col('auth')!='LoggedOut')\n",
        "df = df.withColumn('location', split(col('location'),',').getItem(1))\n",
        "\n",
        "return df"
      ],
      "execution_count": null,
      "outputs": []
    },
    {
      "cell_type": "code",
      "metadata": {
        "id": "xEVzXDCVRX1M"
      },
      "source": [
        "label_df = df.withColumn('label', when((col('page').isin(['Cancellation Confirmation','Cancel'])) | \\\n",
        "                              (col('auth')=='Cancelled'),1 ).\\\n",
        "                          otherwise(0)).groupby('userId').agg(sum('label').alias('label')).withColumn('label',\n",
        "                                                                                                      when(col('label')>=1 ,1).otherwise(0))\n",
        "\n",
        "df = df.join(label_df, on='userId')"
      ],
      "execution_count": null,
      "outputs": []
    },
    {
      "cell_type": "code",
      "metadata": {
        "id": "GdjqLnD1RHp-"
      },
      "source": [
        "last_interaction_df =  df.groupBy('userId').agg(max('ts').alias('last_interaction'))\n",
        "\n",
        "df = last_interaction_df.join(df, on='userId').withColumn('registered_days', ((col('last_interaction')-col('registration'))/(60*1000*60*24)).cast(IntegerType()))"
      ],
      "execution_count": null,
      "outputs": []
    },
    {
      "cell_type": "code",
      "metadata": {
        "colab": {
          "base_uri": "https://localhost:8080/"
        },
        "id": "rHkrrtokbZhT",
        "outputId": "95c1586f-2675-4cd2-bf77-091e3008dd2e"
      },
      "source": [
        "df.select('userId','location','label').distinct().groupby('location','label').count().show()"
      ],
      "execution_count": null,
      "outputs": [
        {
          "output_type": "stream",
          "text": [
            "+-----------+-----+-----+\n",
            "|   location|label|count|\n",
            "+-----------+-----+-----+\n",
            "|         IN|    0|    2|\n",
            "|      IL-MO|    1|    1|\n",
            "|         MD|    0|    1|\n",
            "|         VA|    0|    2|\n",
            "|         AZ|    0|    5|\n",
            "|      MN-WI|    0|    3|\n",
            "|         AZ|    1|    2|\n",
            "|      VA-NC|    0|    1|\n",
            "|         OK|    0|    1|\n",
            "|      RI-MA|    0|    2|\n",
            "|         TX|    1|    3|\n",
            "|      MA-NH|    0|    5|\n",
            "|         LA|    0|    1|\n",
            "|         AL|    0|    2|\n",
            "|         NC|    0|    5|\n",
            "|         SC|    0|    1|\n",
            "|      MO-IL|    1|    1|\n",
            "|         TX|    0|   13|\n",
            "|PA-NJ-DE-MD|    1|    2|\n",
            "|         UT|    0|    1|\n",
            "+-----------+-----+-----+\n",
            "only showing top 20 rows\n",
            "\n"
          ],
          "name": "stdout"
        }
      ]
    },
    {
      "cell_type": "markdown",
      "metadata": {
        "id": "iOcmwrv-tGud"
      },
      "source": [
        "We can now count the number of churn and non-churn customers by state."
      ]
    },
    {
      "cell_type": "code",
      "metadata": {
        "colab": {
          "base_uri": "https://localhost:8080/"
        },
        "id": "BNH8SU-lbZhT",
        "outputId": "208940bc-154a-4074-c692-c93bb7704bbd"
      },
      "source": [
        "df.select('userId','gender','label').distinct().groupby('gender','label').count().show()"
      ],
      "execution_count": null,
      "outputs": [
        {
          "output_type": "stream",
          "text": [
            "+------+-----+-----+\n",
            "|gender|label|count|\n",
            "+------+-----+-----+\n",
            "|     M|    1|   32|\n",
            "|     F|    0|   84|\n",
            "|     F|    1|   20|\n",
            "|     M|    0|   89|\n",
            "+------+-----+-----+\n",
            "\n"
          ],
          "name": "stdout"
        }
      ]
    },
    {
      "cell_type": "markdown",
      "metadata": {
        "id": "lmu_nE9WtZSQ"
      },
      "source": [
        "We may also understand which gender contributes most to customer churn."
      ]
    },
    {
      "cell_type": "code",
      "metadata": {
        "colab": {
          "base_uri": "https://localhost:8080/",
          "height": 225
        },
        "id": "jyBUBBm5bZhT",
        "outputId": "1cc3a580-3346-4468-b44e-3123e60ecb1c"
      },
      "source": [
        "register_df = df.groupBy(['userId', 'label']).avg('registered_days').toPandas()\n",
        "\n",
        "g = sns.FacetGrid(register_df, col=\"label\", sharey=False)\n",
        "g.map(plt.hist, \"avg(registered_days)\");"
      ],
      "execution_count": null,
      "outputs": [
        {
          "output_type": "display_data",
          "data": {
            "image/png": "[encoded data removed]",
            "text/plain": [
              "<Figure size 432x216 with 2 Axes>"
            ]
          },
          "metadata": {
            "tags": [],
            "needs_background": "light"
          }
        }
      ]
    },
    {
      "cell_type": "markdown",
      "metadata": {
        "id": "ufGkpWB0bZhT"
      },
      "source": [
        "**Users registered for a long time appear to be less likely to churn.**"
      ]
    },
    {
      "cell_type": "code",
      "metadata": {
        "colab": {
          "base_uri": "https://localhost:8080/",
          "height": 525
        },
        "id": "knfmjRJtbZhT",
        "outputId": "271bfde6-4e44-45ae-8c71-b8a4e1711513"
      },
      "source": [
        "df_count = df.select('userId','gender','level').groupby('gender','level').count().toPandas().sort_values(by='count')\n",
        "fig = plt.figure(figsize=(8,8))\n",
        "ax = fig.gca()\n",
        "plt.rcParams[\"font.size\"] = \"20\"\n",
        "df_count.pivot(index='level', columns='gender', values='count').plot(kind='bar', ax=ax)\n",
        "# plt.savefig('gender_level.png')"
      ],
      "execution_count": null,
      "outputs": [
        {
          "output_type": "execute_result",
          "data": {
            "text/plain": [
              "<matplotlib.axes._subplots.AxesSubplot at 0x7f58c6a41e80>"
            ]
          },
          "metadata": {
            "tags": []
          },
          "execution_count": 30
        },
        {
          "output_type": "display_data",
          "data": {
            "image/png": "[encoded data removed]",
            "text/plain": [
              "<Figure size 576x576 with 1 Axes>"
            ]
          },
          "metadata": {
            "tags": [],
            "needs_background": "light"
          }
        }
      ]
    },
    {
      "cell_type": "markdown",
      "metadata": {
        "id": "SHNXwljmTaCQ"
      },
      "source": [
        "**More paying customers exist than free users, and Females make up the majority of both categories**"
      ]
    },
    {
      "cell_type": "code",
      "metadata": {
        "colab": {
          "base_uri": "https://localhost:8080/",
          "height": 225
        },
        "id": "uQUXnVq3bZhT",
        "outputId": "9df9a069-7558-4504-d986-e070d6709e7b"
      },
      "source": [
        "sess_df = df.select('userId', 'label', 'sessionId').distinct().groupBy(['userId', 'label']).count().toPandas()\n",
        "\n",
        "# compare two groups of users\n",
        "g = sns.FacetGrid(sess_df, col=\"label\", sharey=False)\n",
        "g.map(plt.hist, \"count\");"
      ],
      "execution_count": null,
      "outputs": [
        {
          "output_type": "display_data",
          "data": {
            "image/png": "[encoded data removed]",
            "text/plain": [
              "<Figure size 432x216 with 2 Axes>"
            ]
          },
          "metadata": {
            "tags": [],
            "needs_background": "light"
          }
        }
      ]
    },
    {
      "cell_type": "markdown",
      "metadata": {
        "id": "5fncwMMkbZhT"
      },
      "source": [
        "**Users that churn often have fewer unique sessions.**"
      ]
    },
    {
      "cell_type": "code",
      "metadata": {
        "colab": {
          "base_uri": "https://localhost:8080/",
          "height": 225
        },
        "id": "Vu7tIbDXbZhT",
        "outputId": "b7c25114-82c5-42bd-e1e3-698de7a48d41"
      },
      "source": [
        "item_df = df.groupBy(['userId', 'label']).avg('itemInSession').toPandas()\n",
        "\n",
        "# compare two groups of users\n",
        "g = sns.FacetGrid(item_df, col=\"label\", sharey=False)\n",
        "g.map(plt.hist, \"avg(itemInSession)\");"
      ],
      "execution_count": null,
      "outputs": [
        {
          "output_type": "display_data",
          "data": {
            "image/png": "[encoded data removed]",
            "text/plain": [
              "<Figure size 432x216 with 2 Axes>"
            ]
          },
          "metadata": {
            "tags": [],
            "needs_background": "light"
          }
        }
      ]
    },
    {
      "cell_type": "markdown",
      "metadata": {
        "id": "4qmE4OBhbZhT"
      },
      "source": [
        "**Churn users consume less 'items' (or songs) than non-churn users**"
      ]
    },
    {
      "cell_type": "code",
      "metadata": {
        "colab": {
          "base_uri": "https://localhost:8080/",
          "height": 526
        },
        "id": "AVVHZnPdbZhT",
        "outputId": "fb34efeb-44b4-4a19-8d4c-fe1d727c9348"
      },
      "source": [
        "df_count_ = df.select('userId','level','label').groupby('level','label').count().toPandas().sort_values(by='count')\n",
        "fig = plt.figure(figsize=(8,8))\n",
        "ax = fig.gca()\n",
        "plt.rcParams[\"font.size\"] = \"20\"\n",
        "df_count_.pivot(index='label', columns='level', values='count').plot(kind='bar', ax=ax)\n",
        "# plt.savefig('label_level.png')"
      ],
      "execution_count": null,
      "outputs": [
        {
          "output_type": "execute_result",
          "data": {
            "text/plain": [
              "<matplotlib.axes._subplots.AxesSubplot at 0x7f58c69c2d68>"
            ]
          },
          "metadata": {
            "tags": []
          },
          "execution_count": 31
        },
        {
          "output_type": "display_data",
          "data": {
            "image/png": "[encoded data removed]",
            "text/plain": [
              "<Figure size 576x576 with 1 Axes>"
            ]
          },
          "metadata": {
            "tags": [],
            "needs_background": "light"
          }
        }
      ]
    },
    {
      "cell_type": "markdown",
      "metadata": {
        "id": "Wx6BxY8yS97z"
      },
      "source": [
        "**Paying customers make up the majority of churners. This is likely due to the fact that they make up the vast majority of non-churn customers also.**"
      ]
    },
    {
      "cell_type": "code",
      "metadata": {
        "colab": {
          "base_uri": "https://localhost:8080/",
          "height": 637
        },
        "id": "Sie07IoobZhU",
        "outputId": "0a3c0c62-31ba-4b1a-f63a-e73101ad384c"
      },
      "source": [
        "df_state_count_ = df.select('userId','location','label').groupby('location','label').count().toPandas().sort_values(by='count')\n",
        "fig = plt.figure(figsize=(20,8))\n",
        "ax = fig.gca()\n",
        "df_state_count_.pivot(index='location', columns='label', values='count').plot(kind='bar', ax=ax)\n",
        "\n",
        "L=plt.legend()\n",
        "L.get_texts()[0].set_text('No Churn')\n",
        "L.get_texts()[1].set_text('Churn')\n",
        "# plt.savefig('state_churn.png')\n",
        "\n"
      ],
      "execution_count": null,
      "outputs": [
        {
          "output_type": "display_data",
          "data": {
            "image/png": "[encoded data removed]",
            "text/plain": [
              "<Figure size 1440x576 with 1 Axes>"
            ]
          },
          "metadata": {
            "tags": [],
            "needs_background": "light"
          }
        }
      ]
    },
    {
      "cell_type": "markdown",
      "metadata": {
        "id": "7kCYWW4gbZhU"
      },
      "source": [
        "**This plot shows the proportion of churn by state. We can clearly see that location is also an important factor for churn, as some areas have much higher contributions to churn than others, e.g, California holds the largest amount of non-churning users, while Colorado contains more churners than non-churners.**"
      ]
    },
    {
      "cell_type": "code",
      "metadata": {
        "id": "v7rYavvRbZhU"
      },
      "source": [],
      "execution_count": null,
      "outputs": []
    }
  ]
}